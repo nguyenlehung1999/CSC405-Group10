{
 "cells": [
  {
   "cell_type": "markdown",
   "id": "9442dcb4-1c57-4f64-ad13-17e4ab2b73a0",
   "metadata": {},
   "source": [
    "# Group 10 project: Stroke Prediction"
   ]
  },
  {
   "cell_type": "code",
   "execution_count": 1,
   "id": "b7f54b75-d014-4601-80e6-98dde8c83b6b",
   "metadata": {},
   "outputs": [],
   "source": [
    "import pandas as pd\n",
    "import numpy as np\n",
    "import matplotlib.pyplot as plt\n",
    "import seaborn as sns\n",
    "from scipy import stats"
   ]
  },
  {
   "cell_type": "markdown",
   "id": "5c23ba36-fb99-42aa-8ec0-0480186caf59",
   "metadata": {},
   "source": [
    "# Stage III: Machine Learning Models\n",
    "---"
   ]
  },
  {
   "cell_type": "markdown",
   "id": "38f31b86-3a42-486e-803e-9195681448fd",
   "metadata": {},
   "source": [
    "## III.1 Hypothesis Verification"
   ]
  },
  {
   "cell_type": "markdown",
   "id": "33570c7d-558c-4a06-aac2-2c134078f8ee",
   "metadata": {},
   "source": [
    "### III.1.a Rewrite the hypotheses:"
   ]
  },
  {
   "cell_type": "markdown",
   "id": "1ea62f39-a6fc-4578-837e-7382fd46ecac",
   "metadata": {},
   "source": [
    "#### **Hypothesis 1: Average Glucose Level and Stroke Risk**\n",
    "- **Null (H₀):** There is **no significant** relationship between average glucose level and stroke occurrence.  \n",
    "- **Alternative (H₁):** Higher average glucose levels can lead to **higher chance** of having a stroke.  \n",
    "\n",
    "#### **Hypothesis 2: BMI and Stroke Risk**\n",
    "- **Null (H₀):** BMI has **no significant** effect on the chance of having a stroke.  \n",
    "- **Alternative (H₁):** Higher BMI might associate with **higher chance** of stroke.  \n",
    "\n",
    "#### **Hypothesis 3: Age and Stroke Risk**\n",
    "- **Null (H₀):** There is **no significant** relationship between age and stroke occurrence.  \n",
    "- **Alternative (H₁):** Older individuals have a **higher chance** of experiencing a stroke. "
   ]
  },
  {
   "cell_type": "markdown",
   "id": "c3866228-1cc9-4edf-886d-2b99249063ec",
   "metadata": {},
   "source": [
    "### III.1.b Justify an approporiate test:"
   ]
  },
  {
   "cell_type": "markdown",
   "id": "7304393e-e3fe-474f-b49b-dc2ff52edc0d",
   "metadata": {},
   "source": [
    "#### Since all 3 independent variables are continuous numerical variables, we will select the Pearson correlation test.\n",
    "#### This test will evaluates whether there is a significant relationship between each variables(avg_glucose_level, BMI, Age)\n",
    "#### and stroke occurence."
   ]
  },
  {
   "cell_type": "markdown",
   "id": "e62ccb80-567c-4fbd-9f5b-a82a1b0b8f1e",
   "metadata": {},
   "source": [
    "### III.1.c Report:"
   ]
  },
  {
   "cell_type": "markdown",
   "id": "146f2c3a-dd6a-4a18-8fec-09be582a85a1",
   "metadata": {},
   "source": [
    "## III.2 Machine Learning Exploration"
   ]
  },
  {
   "cell_type": "markdown",
   "id": "0f913809-a6ae-4e84-a493-631cfac4b1d5",
   "metadata": {},
   "source": [
    "### III.2.a Choose the most suitable ML problem type::"
   ]
  },
  {
   "cell_type": "markdown",
   "id": "5a2329f8-d5f6-4046-b091-212b3a828d9d",
   "metadata": {},
   "source": [
    "### III.2.b Feature Importance and Selection:"
   ]
  },
  {
   "cell_type": "markdown",
   "id": "9d6148f6-0ad7-4d71-ad05-1e7089c91d18",
   "metadata": {},
   "source": [
    "### III.2.c Baseline model -- Linear Regression:"
   ]
  },
  {
   "cell_type": "markdown",
   "id": "c326fa54-731c-431c-bc0f-07c5095d56e4",
   "metadata": {},
   "source": [
    "### III.2.d Additional Models exploration:"
   ]
  },
  {
   "cell_type": "markdown",
   "id": "5e6f3e3d-ef84-46ea-822f-a53badb6ce3f",
   "metadata": {},
   "source": [
    "### III.2.e Summary:"
   ]
  },
  {
   "cell_type": "code",
   "execution_count": null,
   "id": "0515d264-b069-4820-9f2c-cf15c9faf3a0",
   "metadata": {},
   "outputs": [],
   "source": []
  }
 ],
 "metadata": {
  "kernelspec": {
   "display_name": "Python [conda env:base] *",
   "language": "python",
   "name": "conda-base-py"
  },
  "language_info": {
   "codemirror_mode": {
    "name": "ipython",
    "version": 3
   },
   "file_extension": ".py",
   "mimetype": "text/x-python",
   "name": "python",
   "nbconvert_exporter": "python",
   "pygments_lexer": "ipython3",
   "version": "3.13.5"
  }
 },
 "nbformat": 4,
 "nbformat_minor": 5
}
