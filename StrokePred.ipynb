{
 "cells": [
  {
   "cell_type": "markdown",
   "id": "dec82d48-6b26-448f-ba6c-4753344f0652",
   "metadata": {},
   "source": [
    "# Group 10 project: Stroke Prediction"
   ]
  },
  {
   "cell_type": "markdown",
   "id": "703dfad5-7ca1-45de-8e2d-ed0993762d6f",
   "metadata": {},
   "source": [
    "### Import necessary python libraries for the project"
   ]
  },
  {
   "cell_type": "code",
   "execution_count": 2,
   "id": "7eecbeeb-cdeb-4f01-b747-43386fc47d0c",
   "metadata": {},
   "outputs": [],
   "source": [
    "import pandas as pd\n",
    "import numpy as np\n",
    "import matplotlib.pyplot as plt\n",
    "import seaborn as sns\n",
    "from scipy import stats"
   ]
  },
  {
   "cell_type": "markdown",
   "id": "052dc313-7d92-4e36-9833-4e041449bd55",
   "metadata": {},
   "source": [
    "# Stage I: Dataset Introduction\n",
    "---"
   ]
  },
  {
   "cell_type": "markdown",
   "id": "a3ca7b3b-af0c-4520-962c-30106b243002",
   "metadata": {},
   "source": [
    "# I.1. **Dataset Exploration**"
   ]
  },
  {
   "cell_type": "markdown",
   "id": "2764684e-fbfa-4979-adf5-bf2fedc155c4",
   "metadata": {},
   "source": [
    "## I.1.1 A quick overview of the dataset"
   ]
  },
  {
   "cell_type": "code",
   "execution_count": 3,
   "id": "92084849-5cbc-49cd-86f9-567cff11ac92",
   "metadata": {},
   "outputs": [
    {
     "data": {
      "text/html": [
       "<div>\n",
       "<style scoped>\n",
       "    .dataframe tbody tr th:only-of-type {\n",
       "        vertical-align: middle;\n",
       "    }\n",
       "\n",
       "    .dataframe tbody tr th {\n",
       "        vertical-align: top;\n",
       "    }\n",
       "\n",
       "    .dataframe thead th {\n",
       "        text-align: right;\n",
       "    }\n",
       "</style>\n",
       "<table border=\"1\" class=\"dataframe\">\n",
       "  <thead>\n",
       "    <tr style=\"text-align: right;\">\n",
       "      <th></th>\n",
       "      <th>id</th>\n",
       "      <th>gender</th>\n",
       "      <th>age</th>\n",
       "      <th>hypertension</th>\n",
       "      <th>heart_disease</th>\n",
       "      <th>ever_married</th>\n",
       "      <th>work_type</th>\n",
       "      <th>Residence_type</th>\n",
       "      <th>avg_glucose_level</th>\n",
       "      <th>bmi</th>\n",
       "      <th>smoking_status</th>\n",
       "      <th>stroke</th>\n",
       "    </tr>\n",
       "  </thead>\n",
       "  <tbody>\n",
       "    <tr>\n",
       "      <th>0</th>\n",
       "      <td>9046</td>\n",
       "      <td>Male</td>\n",
       "      <td>67.0</td>\n",
       "      <td>0</td>\n",
       "      <td>1</td>\n",
       "      <td>Yes</td>\n",
       "      <td>Private</td>\n",
       "      <td>Urban</td>\n",
       "      <td>228.69</td>\n",
       "      <td>36.6</td>\n",
       "      <td>formerly smoked</td>\n",
       "      <td>1</td>\n",
       "    </tr>\n",
       "    <tr>\n",
       "      <th>1</th>\n",
       "      <td>51676</td>\n",
       "      <td>Female</td>\n",
       "      <td>61.0</td>\n",
       "      <td>0</td>\n",
       "      <td>0</td>\n",
       "      <td>Yes</td>\n",
       "      <td>Self-employed</td>\n",
       "      <td>Rural</td>\n",
       "      <td>202.21</td>\n",
       "      <td>NaN</td>\n",
       "      <td>never smoked</td>\n",
       "      <td>1</td>\n",
       "    </tr>\n",
       "    <tr>\n",
       "      <th>2</th>\n",
       "      <td>31112</td>\n",
       "      <td>Male</td>\n",
       "      <td>80.0</td>\n",
       "      <td>0</td>\n",
       "      <td>1</td>\n",
       "      <td>Yes</td>\n",
       "      <td>Private</td>\n",
       "      <td>Rural</td>\n",
       "      <td>105.92</td>\n",
       "      <td>32.5</td>\n",
       "      <td>never smoked</td>\n",
       "      <td>1</td>\n",
       "    </tr>\n",
       "    <tr>\n",
       "      <th>3</th>\n",
       "      <td>60182</td>\n",
       "      <td>Female</td>\n",
       "      <td>49.0</td>\n",
       "      <td>0</td>\n",
       "      <td>0</td>\n",
       "      <td>Yes</td>\n",
       "      <td>Private</td>\n",
       "      <td>Urban</td>\n",
       "      <td>171.23</td>\n",
       "      <td>34.4</td>\n",
       "      <td>smokes</td>\n",
       "      <td>1</td>\n",
       "    </tr>\n",
       "    <tr>\n",
       "      <th>4</th>\n",
       "      <td>1665</td>\n",
       "      <td>Female</td>\n",
       "      <td>79.0</td>\n",
       "      <td>1</td>\n",
       "      <td>0</td>\n",
       "      <td>Yes</td>\n",
       "      <td>Self-employed</td>\n",
       "      <td>Rural</td>\n",
       "      <td>174.12</td>\n",
       "      <td>24.0</td>\n",
       "      <td>never smoked</td>\n",
       "      <td>1</td>\n",
       "    </tr>\n",
       "    <tr>\n",
       "      <th>5</th>\n",
       "      <td>56669</td>\n",
       "      <td>Male</td>\n",
       "      <td>81.0</td>\n",
       "      <td>0</td>\n",
       "      <td>0</td>\n",
       "      <td>Yes</td>\n",
       "      <td>Private</td>\n",
       "      <td>Urban</td>\n",
       "      <td>186.21</td>\n",
       "      <td>29.0</td>\n",
       "      <td>formerly smoked</td>\n",
       "      <td>1</td>\n",
       "    </tr>\n",
       "    <tr>\n",
       "      <th>6</th>\n",
       "      <td>53882</td>\n",
       "      <td>Male</td>\n",
       "      <td>74.0</td>\n",
       "      <td>1</td>\n",
       "      <td>1</td>\n",
       "      <td>Yes</td>\n",
       "      <td>Private</td>\n",
       "      <td>Rural</td>\n",
       "      <td>70.09</td>\n",
       "      <td>27.4</td>\n",
       "      <td>never smoked</td>\n",
       "      <td>1</td>\n",
       "    </tr>\n",
       "    <tr>\n",
       "      <th>7</th>\n",
       "      <td>10434</td>\n",
       "      <td>Female</td>\n",
       "      <td>69.0</td>\n",
       "      <td>0</td>\n",
       "      <td>0</td>\n",
       "      <td>No</td>\n",
       "      <td>Private</td>\n",
       "      <td>Urban</td>\n",
       "      <td>94.39</td>\n",
       "      <td>22.8</td>\n",
       "      <td>never smoked</td>\n",
       "      <td>1</td>\n",
       "    </tr>\n",
       "    <tr>\n",
       "      <th>8</th>\n",
       "      <td>27419</td>\n",
       "      <td>Female</td>\n",
       "      <td>59.0</td>\n",
       "      <td>0</td>\n",
       "      <td>0</td>\n",
       "      <td>Yes</td>\n",
       "      <td>Private</td>\n",
       "      <td>Rural</td>\n",
       "      <td>76.15</td>\n",
       "      <td>NaN</td>\n",
       "      <td>Unknown</td>\n",
       "      <td>1</td>\n",
       "    </tr>\n",
       "    <tr>\n",
       "      <th>9</th>\n",
       "      <td>60491</td>\n",
       "      <td>Female</td>\n",
       "      <td>78.0</td>\n",
       "      <td>0</td>\n",
       "      <td>0</td>\n",
       "      <td>Yes</td>\n",
       "      <td>Private</td>\n",
       "      <td>Urban</td>\n",
       "      <td>58.57</td>\n",
       "      <td>24.2</td>\n",
       "      <td>Unknown</td>\n",
       "      <td>1</td>\n",
       "    </tr>\n",
       "  </tbody>\n",
       "</table>\n",
       "</div>"
      ],
      "text/plain": [
       "      id  gender   age  hypertension  heart_disease ever_married  \\\n",
       "0   9046    Male  67.0             0              1          Yes   \n",
       "1  51676  Female  61.0             0              0          Yes   \n",
       "2  31112    Male  80.0             0              1          Yes   \n",
       "3  60182  Female  49.0             0              0          Yes   \n",
       "4   1665  Female  79.0             1              0          Yes   \n",
       "5  56669    Male  81.0             0              0          Yes   \n",
       "6  53882    Male  74.0             1              1          Yes   \n",
       "7  10434  Female  69.0             0              0           No   \n",
       "8  27419  Female  59.0             0              0          Yes   \n",
       "9  60491  Female  78.0             0              0          Yes   \n",
       "\n",
       "       work_type Residence_type  avg_glucose_level   bmi   smoking_status  \\\n",
       "0        Private          Urban             228.69  36.6  formerly smoked   \n",
       "1  Self-employed          Rural             202.21   NaN     never smoked   \n",
       "2        Private          Rural             105.92  32.5     never smoked   \n",
       "3        Private          Urban             171.23  34.4           smokes   \n",
       "4  Self-employed          Rural             174.12  24.0     never smoked   \n",
       "5        Private          Urban             186.21  29.0  formerly smoked   \n",
       "6        Private          Rural              70.09  27.4     never smoked   \n",
       "7        Private          Urban              94.39  22.8     never smoked   \n",
       "8        Private          Rural              76.15   NaN          Unknown   \n",
       "9        Private          Urban              58.57  24.2          Unknown   \n",
       "\n",
       "   stroke  \n",
       "0       1  \n",
       "1       1  \n",
       "2       1  \n",
       "3       1  \n",
       "4       1  \n",
       "5       1  \n",
       "6       1  \n",
       "7       1  \n",
       "8       1  \n",
       "9       1  "
      ]
     },
     "execution_count": 3,
     "metadata": {},
     "output_type": "execute_result"
    }
   ],
   "source": [
    "\n",
    "## Show the first 10 rows of the dataset\n",
    "df = pd.read_csv(\"Data/healthcare-dataset-stroke-data.csv\")\n",
    "df.head(10)"
   ]
  },
  {
   "cell_type": "markdown",
   "id": "4c46df4f-d2c5-4e02-908e-edbd21680bb4",
   "metadata": {},
   "source": [
    "#### Since the first collumn represent the id of the patient, which is used to identify the patient in this dataset, we can safely assume that this collumn will be redundant for this study and therefore can be safely removed"
   ]
  },
  {
   "cell_type": "code",
   "execution_count": 4,
   "id": "6780dee2-f93c-4281-8eac-0f8a39bd627b",
   "metadata": {},
   "outputs": [],
   "source": [
    "df=df.drop('id', axis=1)"
   ]
  },
  {
   "cell_type": "code",
   "execution_count": 5,
   "id": "650be3ae-024a-47d6-a5f3-a3133391a7aa",
   "metadata": {},
   "outputs": [
    {
     "name": "stdout",
     "output_type": "stream",
     "text": [
      "<class 'pandas.core.frame.DataFrame'>\n",
      "RangeIndex: 5110 entries, 0 to 5109\n",
      "Data columns (total 11 columns):\n",
      " #   Column             Non-Null Count  Dtype  \n",
      "---  ------             --------------  -----  \n",
      " 0   gender             5110 non-null   object \n",
      " 1   age                5110 non-null   float64\n",
      " 2   hypertension       5110 non-null   int64  \n",
      " 3   heart_disease      5110 non-null   int64  \n",
      " 4   ever_married       5110 non-null   object \n",
      " 5   work_type          5110 non-null   object \n",
      " 6   Residence_type     5110 non-null   object \n",
      " 7   avg_glucose_level  5110 non-null   float64\n",
      " 8   bmi                4909 non-null   float64\n",
      " 9   smoking_status     5110 non-null   object \n",
      " 10  stroke             5110 non-null   int64  \n",
      "dtypes: float64(3), int64(3), object(5)\n",
      "memory usage: 439.3+ KB\n"
     ]
    }
   ],
   "source": [
    "df.info()"
   ]
  },
  {
   "cell_type": "markdown",
   "id": "e2b0bf86-9d66-465d-9922-091e8778980e",
   "metadata": {},
   "source": [
    "#### Data Notes:\n",
    "* Categorical: `gender`, `hypertension`, `heart_disease`, `ever_married`, `work_type`, `residence_type`, `smoking status`, `stroke`\n",
    "* Numerical: (continuous) `age`, `avg_glucose_level`, `bmi`\n",
    "* Missing value: `bmi`\n",
    "* Data types: String, Int, Float"
   ]
  },
  {
   "cell_type": "markdown",
   "id": "28c65962-fdea-4569-be00-73ea4af68f8b",
   "metadata": {},
   "source": [
    "## I.1.2 Check the dataset for potential missing values"
   ]
  },
  {
   "cell_type": "code",
   "execution_count": 6,
   "id": "0c7648d3-3dcf-4d6c-ac88-1eeecd85bbac",
   "metadata": {},
   "outputs": [
    {
     "data": {
      "text/plain": [
       "gender                 0\n",
       "age                    0\n",
       "hypertension           0\n",
       "heart_disease          0\n",
       "ever_married           0\n",
       "work_type              0\n",
       "Residence_type         0\n",
       "avg_glucose_level      0\n",
       "bmi                  201\n",
       "smoking_status         0\n",
       "stroke                 0\n",
       "dtype: int64"
      ]
     },
     "execution_count": 6,
     "metadata": {},
     "output_type": "execute_result"
    }
   ],
   "source": [
    "# Check out for feature with null value\n",
    "df.isnull().sum()"
   ]
  },
  {
   "cell_type": "markdown",
   "id": "56ae48d7-fcb1-49d3-92aa-11366800fa4d",
   "metadata": {},
   "source": [
    "## I.1.3 Categorical features"
   ]
  },
  {
   "cell_type": "markdown",
   "id": "72fe8877-eb3a-4793-865b-da2659284a73",
   "metadata": {},
   "source": [
    "#### Convert datatype for categorical data to `category`"
   ]
  },
  {
   "cell_type": "code",
   "execution_count": 7,
   "id": "775749fd-c9c8-4547-a133-7584bacc894b",
   "metadata": {},
   "outputs": [
    {
     "name": "stdout",
     "output_type": "stream",
     "text": [
      "<class 'pandas.core.frame.DataFrame'>\n",
      "RangeIndex: 5110 entries, 0 to 5109\n",
      "Data columns (total 11 columns):\n",
      " #   Column             Non-Null Count  Dtype   \n",
      "---  ------             --------------  -----   \n",
      " 0   gender             5110 non-null   category\n",
      " 1   age                5110 non-null   float64 \n",
      " 2   hypertension       5110 non-null   category\n",
      " 3   heart_disease      5110 non-null   category\n",
      " 4   ever_married       5110 non-null   category\n",
      " 5   work_type          5110 non-null   category\n",
      " 6   Residence_type     5110 non-null   category\n",
      " 7   avg_glucose_level  5110 non-null   float64 \n",
      " 8   bmi                4909 non-null   float64 \n",
      " 9   smoking_status     5110 non-null   category\n",
      " 10  stroke             5110 non-null   category\n",
      "dtypes: category(8), float64(3)\n",
      "memory usage: 161.0 KB\n"
     ]
    }
   ],
   "source": [
    "cfeatures = [\"gender\", \"hypertension\", \"heart_disease\", \"ever_married\", \"work_type\", \"Residence_type\", \"smoking_status\", \"stroke\"]\n",
    "for feature in cfeatures:\n",
    "    df[feature] = df[feature].astype(\"category\")\n",
    "df.info()"
   ]
  },
  {
   "cell_type": "markdown",
   "id": "4123e9a5-e498-451b-a182-12d4c590dee0",
   "metadata": {},
   "source": [
    "#### Distribution of Categorical features:"
   ]
  },
  {
   "cell_type": "code",
   "execution_count": 8,
   "id": "748c6341-4edc-443a-827e-bc0c1e927a58",
   "metadata": {},
   "outputs": [
    {
     "data": {
      "text/html": [
       "<div>\n",
       "<style scoped>\n",
       "    .dataframe tbody tr th:only-of-type {\n",
       "        vertical-align: middle;\n",
       "    }\n",
       "\n",
       "    .dataframe tbody tr th {\n",
       "        vertical-align: top;\n",
       "    }\n",
       "\n",
       "    .dataframe thead th {\n",
       "        text-align: right;\n",
       "    }\n",
       "</style>\n",
       "<table border=\"1\" class=\"dataframe\">\n",
       "  <thead>\n",
       "    <tr style=\"text-align: right;\">\n",
       "      <th></th>\n",
       "      <th>gender</th>\n",
       "      <th>hypertension</th>\n",
       "      <th>heart_disease</th>\n",
       "      <th>ever_married</th>\n",
       "      <th>work_type</th>\n",
       "      <th>Residence_type</th>\n",
       "      <th>smoking_status</th>\n",
       "      <th>stroke</th>\n",
       "    </tr>\n",
       "  </thead>\n",
       "  <tbody>\n",
       "    <tr>\n",
       "      <th>count</th>\n",
       "      <td>5110</td>\n",
       "      <td>5110</td>\n",
       "      <td>5110</td>\n",
       "      <td>5110</td>\n",
       "      <td>5110</td>\n",
       "      <td>5110</td>\n",
       "      <td>5110</td>\n",
       "      <td>5110</td>\n",
       "    </tr>\n",
       "    <tr>\n",
       "      <th>unique</th>\n",
       "      <td>3</td>\n",
       "      <td>2</td>\n",
       "      <td>2</td>\n",
       "      <td>2</td>\n",
       "      <td>5</td>\n",
       "      <td>2</td>\n",
       "      <td>4</td>\n",
       "      <td>2</td>\n",
       "    </tr>\n",
       "    <tr>\n",
       "      <th>top</th>\n",
       "      <td>Female</td>\n",
       "      <td>0</td>\n",
       "      <td>0</td>\n",
       "      <td>Yes</td>\n",
       "      <td>Private</td>\n",
       "      <td>Urban</td>\n",
       "      <td>never smoked</td>\n",
       "      <td>0</td>\n",
       "    </tr>\n",
       "    <tr>\n",
       "      <th>freq</th>\n",
       "      <td>2994</td>\n",
       "      <td>4612</td>\n",
       "      <td>4834</td>\n",
       "      <td>3353</td>\n",
       "      <td>2925</td>\n",
       "      <td>2596</td>\n",
       "      <td>1892</td>\n",
       "      <td>4861</td>\n",
       "    </tr>\n",
       "  </tbody>\n",
       "</table>\n",
       "</div>"
      ],
      "text/plain": [
       "        gender  hypertension  heart_disease ever_married work_type  \\\n",
       "count     5110          5110           5110         5110      5110   \n",
       "unique       3             2              2            2         5   \n",
       "top     Female             0              0          Yes   Private   \n",
       "freq      2994          4612           4834         3353      2925   \n",
       "\n",
       "       Residence_type smoking_status  stroke  \n",
       "count            5110           5110    5110  \n",
       "unique              2              4       2  \n",
       "top             Urban   never smoked       0  \n",
       "freq             2596           1892    4861  "
      ]
     },
     "execution_count": 8,
     "metadata": {},
     "output_type": "execute_result"
    }
   ],
   "source": [
    "df.describe(include =['category'])"
   ]
  },
  {
   "cell_type": "markdown",
   "id": "6927c520-f8fa-4171-b6c1-1043cc6f21b8",
   "metadata": {},
   "source": [
    "## I.1.4 Numerical features:"
   ]
  },
  {
   "cell_type": "code",
   "execution_count": 9,
   "id": "0cdffbea-2e25-4397-9a9f-e8696d085330",
   "metadata": {},
   "outputs": [],
   "source": [
    "nfeatures = [\"bmi\", \"age\", \"avg_glucose_level\"]\n"
   ]
  },
  {
   "cell_type": "markdown",
   "id": "b3f2a2bd-a3fa-4890-9d65-c7c931667222",
   "metadata": {},
   "source": [
    "#### Distribution of Numerical features:"
   ]
  },
  {
   "cell_type": "code",
   "execution_count": 10,
   "id": "b31d7247-7100-4cdb-9c50-976390480e17",
   "metadata": {},
   "outputs": [
    {
     "data": {
      "text/html": [
       "<div>\n",
       "<style scoped>\n",
       "    .dataframe tbody tr th:only-of-type {\n",
       "        vertical-align: middle;\n",
       "    }\n",
       "\n",
       "    .dataframe tbody tr th {\n",
       "        vertical-align: top;\n",
       "    }\n",
       "\n",
       "    .dataframe thead th {\n",
       "        text-align: right;\n",
       "    }\n",
       "</style>\n",
       "<table border=\"1\" class=\"dataframe\">\n",
       "  <thead>\n",
       "    <tr style=\"text-align: right;\">\n",
       "      <th></th>\n",
       "      <th>age</th>\n",
       "      <th>avg_glucose_level</th>\n",
       "      <th>bmi</th>\n",
       "    </tr>\n",
       "  </thead>\n",
       "  <tbody>\n",
       "    <tr>\n",
       "      <th>count</th>\n",
       "      <td>5110.00</td>\n",
       "      <td>5110.00</td>\n",
       "      <td>4909.00</td>\n",
       "    </tr>\n",
       "    <tr>\n",
       "      <th>mean</th>\n",
       "      <td>43.23</td>\n",
       "      <td>106.15</td>\n",
       "      <td>28.89</td>\n",
       "    </tr>\n",
       "    <tr>\n",
       "      <th>std</th>\n",
       "      <td>22.61</td>\n",
       "      <td>45.28</td>\n",
       "      <td>7.85</td>\n",
       "    </tr>\n",
       "    <tr>\n",
       "      <th>min</th>\n",
       "      <td>0.08</td>\n",
       "      <td>55.12</td>\n",
       "      <td>10.30</td>\n",
       "    </tr>\n",
       "    <tr>\n",
       "      <th>25%</th>\n",
       "      <td>25.00</td>\n",
       "      <td>77.24</td>\n",
       "      <td>23.50</td>\n",
       "    </tr>\n",
       "    <tr>\n",
       "      <th>50%</th>\n",
       "      <td>45.00</td>\n",
       "      <td>91.88</td>\n",
       "      <td>28.10</td>\n",
       "    </tr>\n",
       "    <tr>\n",
       "      <th>75%</th>\n",
       "      <td>61.00</td>\n",
       "      <td>114.09</td>\n",
       "      <td>33.10</td>\n",
       "    </tr>\n",
       "    <tr>\n",
       "      <th>max</th>\n",
       "      <td>82.00</td>\n",
       "      <td>271.74</td>\n",
       "      <td>97.60</td>\n",
       "    </tr>\n",
       "  </tbody>\n",
       "</table>\n",
       "</div>"
      ],
      "text/plain": [
       "           age  avg_glucose_level      bmi\n",
       "count  5110.00            5110.00  4909.00\n",
       "mean     43.23             106.15    28.89\n",
       "std      22.61              45.28     7.85\n",
       "min       0.08              55.12    10.30\n",
       "25%      25.00              77.24    23.50\n",
       "50%      45.00              91.88    28.10\n",
       "75%      61.00             114.09    33.10\n",
       "max      82.00             271.74    97.60"
      ]
     },
     "execution_count": 10,
     "metadata": {},
     "output_type": "execute_result"
    }
   ],
   "source": [
    "df.describe().round(2)"
   ]
  },
  {
   "cell_type": "markdown",
   "id": "99684c83-04c7-4de6-8421-f39a9dddf53a",
   "metadata": {},
   "source": [
    "# I.2. Feature exploration"
   ]
  },
  {
   "cell_type": "markdown",
   "id": "a896bb96-2008-4b00-b221-bece09053f6a",
   "metadata": {},
   "source": [
    "## I.2.1 Check for potential duplicate data"
   ]
  },
  {
   "cell_type": "code",
   "execution_count": 11,
   "id": "7d3a1a1b-9b97-4017-bdb4-7423e3ddb426",
   "metadata": {},
   "outputs": [
    {
     "data": {
      "text/plain": [
       "np.int64(0)"
      ]
     },
     "execution_count": 11,
     "metadata": {},
     "output_type": "execute_result"
    }
   ],
   "source": [
    "df.duplicated().sum()"
   ]
  },
  {
   "cell_type": "markdown",
   "id": "df4caada-0774-40d7-ae84-ea6c8af4f8bb",
   "metadata": {},
   "source": [
    "#### The dataset has no duplication"
   ]
  },
  {
   "cell_type": "markdown",
   "id": "c93e51a2-3b84-4d2b-a1d0-d6c711e47dc4",
   "metadata": {},
   "source": [
    "## I.2.2 Handling missing data"
   ]
  },
  {
   "cell_type": "markdown",
   "id": "6f409491-666e-44b4-8ff8-694ac0175798",
   "metadata": {},
   "source": [
    "#### Handling feature with missing value, in our case, the only feature with missing data is the `BMI`. In this project, we will be using K-Nearest Neighbor technique to replace the missing values by imputation."
   ]
  },
  {
   "cell_type": "code",
   "execution_count": 12,
   "id": "bcfc9939-b6d5-4706-adf6-ec458b945842",
   "metadata": {},
   "outputs": [],
   "source": [
    "from sklearn.impute import KNNImputer"
   ]
  },
  {
   "cell_type": "code",
   "execution_count": 13,
   "id": "dbe0ef75-ff9d-40c7-92b5-f52e4528f4cc",
   "metadata": {},
   "outputs": [],
   "source": [
    "features = ['age', 'gender', 'avg_glucose_level', 'bmi']\n",
    "df_copy = df[features].copy()\n",
    "df_copy['gender'] = df_copy['gender'].map({'Male':0, 'Female':1, 'Other':-1}).astype(np.int8)\n",
    "\n",
    "imputer = KNNImputer(n_neighbors=8)\n",
    "df_imputed = imputer.fit_transform(df_copy)\n",
    "\n",
    "df_imputed = pd.DataFrame(df_imputed, columns=df_copy.columns, index=df_copy.index)\n",
    "df['bmi'] = df_imputed['bmi']"
   ]
  },
  {
   "cell_type": "markdown",
   "id": "a6814c96-bdac-4f0b-bb9a-e14f7122455b",
   "metadata": {},
   "source": [
    "#### This technique will find 8 patients with the closest `age`, `gender`, and `avg_glucose_level` and compute the mean of these 8 patients' `bmi` and then assign to the missing value. "
   ]
  },
  {
   "cell_type": "code",
   "execution_count": 14,
   "id": "86e6f087-14c0-4036-9f28-3c281723f921",
   "metadata": {},
   "outputs": [
    {
     "name": "stdout",
     "output_type": "stream",
     "text": [
      "<class 'pandas.core.frame.DataFrame'>\n",
      "RangeIndex: 5110 entries, 0 to 5109\n",
      "Data columns (total 11 columns):\n",
      " #   Column             Non-Null Count  Dtype   \n",
      "---  ------             --------------  -----   \n",
      " 0   gender             5110 non-null   category\n",
      " 1   age                5110 non-null   float64 \n",
      " 2   hypertension       5110 non-null   category\n",
      " 3   heart_disease      5110 non-null   category\n",
      " 4   ever_married       5110 non-null   category\n",
      " 5   work_type          5110 non-null   category\n",
      " 6   Residence_type     5110 non-null   category\n",
      " 7   avg_glucose_level  5110 non-null   float64 \n",
      " 8   bmi                5110 non-null   float64 \n",
      " 9   smoking_status     5110 non-null   category\n",
      " 10  stroke             5110 non-null   category\n",
      "dtypes: category(8), float64(3)\n",
      "memory usage: 161.0 KB\n"
     ]
    }
   ],
   "source": [
    "df.info()\n"
   ]
  },
  {
   "cell_type": "markdown",
   "id": "0c90987c-3f39-466d-b556-0a9e132d9859",
   "metadata": {},
   "source": [
    "## I.2.3 Handling possible outliers for the Numerical feature: `age`, `avg_glucose_level`, and `bmi`:"
   ]
  },
  {
   "cell_type": "markdown",
   "id": "1a6837d8-412f-4185-8472-43b4175d7019",
   "metadata": {},
   "source": [
    "### I.2.3.1 age\n"
   ]
  },
  {
   "cell_type": "code",
   "execution_count": 15,
   "id": "c50841e2-8d95-46ad-9750-a172581d0aed",
   "metadata": {},
   "outputs": [
    {
     "data": {
      "text/plain": [
       "count    5110.000000\n",
       "mean       43.226614\n",
       "std        22.612647\n",
       "min         0.080000\n",
       "25%        25.000000\n",
       "50%        45.000000\n",
       "75%        61.000000\n",
       "max        82.000000\n",
       "Name: age, dtype: float64"
      ]
     },
     "execution_count": 15,
     "metadata": {},
     "output_type": "execute_result"
    }
   ],
   "source": [
    "#Handle age , check z-score and outliers\n",
    "df['age'].describe()\n"
   ]
  },
  {
   "cell_type": "code",
   "execution_count": 16,
   "id": "bf2f197b-19e5-4b3c-9c03-b9b47138096d",
   "metadata": {},
   "outputs": [
    {
     "data": {
      "text/html": [
       "<div>\n",
       "<style scoped>\n",
       "    .dataframe tbody tr th:only-of-type {\n",
       "        vertical-align: middle;\n",
       "    }\n",
       "\n",
       "    .dataframe tbody tr th {\n",
       "        vertical-align: top;\n",
       "    }\n",
       "\n",
       "    .dataframe thead th {\n",
       "        text-align: right;\n",
       "    }\n",
       "</style>\n",
       "<table border=\"1\" class=\"dataframe\">\n",
       "  <thead>\n",
       "    <tr style=\"text-align: right;\">\n",
       "      <th></th>\n",
       "      <th>gender</th>\n",
       "      <th>age</th>\n",
       "      <th>hypertension</th>\n",
       "      <th>heart_disease</th>\n",
       "      <th>ever_married</th>\n",
       "      <th>work_type</th>\n",
       "      <th>Residence_type</th>\n",
       "      <th>avg_glucose_level</th>\n",
       "      <th>bmi</th>\n",
       "      <th>smoking_status</th>\n",
       "      <th>stroke</th>\n",
       "    </tr>\n",
       "  </thead>\n",
       "  <tbody>\n",
       "    <tr>\n",
       "      <th>162</th>\n",
       "      <td>Female</td>\n",
       "      <td>1.32</td>\n",
       "      <td>0</td>\n",
       "      <td>0</td>\n",
       "      <td>No</td>\n",
       "      <td>children</td>\n",
       "      <td>Urban</td>\n",
       "      <td>70.37</td>\n",
       "      <td>18.475</td>\n",
       "      <td>Unknown</td>\n",
       "      <td>1</td>\n",
       "    </tr>\n",
       "  </tbody>\n",
       "</table>\n",
       "</div>"
      ],
      "text/plain": [
       "     gender   age hypertension heart_disease ever_married work_type  \\\n",
       "162  Female  1.32            0             0           No  children   \n",
       "\n",
       "    Residence_type  avg_glucose_level     bmi smoking_status stroke  \n",
       "162          Urban              70.37  18.475        Unknown      1  "
      ]
     },
     "execution_count": 16,
     "metadata": {},
     "output_type": "execute_result"
    }
   ],
   "source": [
    "#check young age who got stroke\n",
    "under_10_age = df[(df['age'] < 10) & (df['stroke'] == 1)]\n",
    "under_10_age"
   ]
  },
  {
   "cell_type": "code",
   "execution_count": 17,
   "id": "72806338-d08f-41d6-a4a0-543a7d3f5151",
   "metadata": {},
   "outputs": [
    {
     "data": {
      "text/html": [
       "<div>\n",
       "<style scoped>\n",
       "    .dataframe tbody tr th:only-of-type {\n",
       "        vertical-align: middle;\n",
       "    }\n",
       "\n",
       "    .dataframe tbody tr th {\n",
       "        vertical-align: top;\n",
       "    }\n",
       "\n",
       "    .dataframe thead th {\n",
       "        text-align: right;\n",
       "    }\n",
       "</style>\n",
       "<table border=\"1\" class=\"dataframe\">\n",
       "  <thead>\n",
       "    <tr style=\"text-align: right;\">\n",
       "      <th></th>\n",
       "      <th>gender</th>\n",
       "      <th>age</th>\n",
       "      <th>hypertension</th>\n",
       "      <th>heart_disease</th>\n",
       "      <th>ever_married</th>\n",
       "      <th>work_type</th>\n",
       "      <th>Residence_type</th>\n",
       "      <th>avg_glucose_level</th>\n",
       "      <th>bmi</th>\n",
       "      <th>smoking_status</th>\n",
       "      <th>stroke</th>\n",
       "    </tr>\n",
       "  </thead>\n",
       "  <tbody>\n",
       "  </tbody>\n",
       "</table>\n",
       "</div>"
      ],
      "text/plain": [
       "Empty DataFrame\n",
       "Columns: [gender, age, hypertension, heart_disease, ever_married, work_type, Residence_type, avg_glucose_level, bmi, smoking_status, stroke]\n",
       "Index: []"
      ]
     },
     "execution_count": 17,
     "metadata": {},
     "output_type": "execute_result"
    }
   ],
   "source": [
    "#Let check someone get married under age\n",
    "married_under_age = df[(df['age'] < 18) & (df['ever_married'] == 'Yes')]\n",
    "married_under_age"
   ]
  },
  {
   "cell_type": "code",
   "execution_count": 18,
   "id": "333cb081-47f9-45d2-9b08-96c43b726ea2",
   "metadata": {},
   "outputs": [
    {
     "name": "stdout",
     "output_type": "stream",
     "text": [
      "0    1.051331\n",
      "1    0.785993\n",
      "2    1.626231\n",
      "3    0.255317\n",
      "4    1.582008\n",
      "Name: age, dtype: float64\n"
     ]
    }
   ],
   "source": [
    "#Z-score\n",
    "age = df['age']\n",
    "age_zscore = (age - age.mean()) / age.std()\n",
    "\n",
    "print(age_zscore.head())"
   ]
  },
  {
   "cell_type": "code",
   "execution_count": 19,
   "id": "e62a3734-d4ea-4ef5-8ae7-dd82edeae43b",
   "metadata": {},
   "outputs": [
    {
     "name": "stdout",
     "output_type": "stream",
     "text": [
      "Number of Age outliers: 0\n",
      "Empty DataFrame\n",
      "Columns: [age]\n",
      "Index: []\n"
     ]
    }
   ],
   "source": [
    "#Find outlier of Age\n",
    "age_outliers = df[age_zscore.abs() > 3]\n",
    "\n",
    "print(\"Number of Age outliers:\", len(age_outliers))\n",
    "print(age_outliers[['age']])"
   ]
  },
  {
   "cell_type": "markdown",
   "id": "02cb68c1-2d6b-4c43-8135-f3f2cc430404",
   "metadata": {},
   "source": [
    "### Age feature:\n",
    "+ Total entries: 5110\n",
    "+ Mean age: about 43.2 years\n",
    "+ Standard deviation: about 22.6 years\n",
    "+ Youngest one: 0.08 years\n",
    "+ Oldest one: 82 years\n",
    "+ Quartiles:\n",
    "  - 25% of individuals are younger than 25\n",
    "  - 50%  are younger than 45\n",
    "  - 75%  are younger than 61\n",
    "+ Stroke case under age 10: 1\n",
    "+ No outliers detected  "
   ]
  },
  {
   "cell_type": "markdown",
   "id": "2ac184f2-74b4-46ae-9ea9-e5ea306d1aca",
   "metadata": {},
   "source": [
    "### I.2.3.2 avg_glucose_level"
   ]
  },
  {
   "cell_type": "code",
   "execution_count": 20,
   "id": "8ba15993-6a43-4190-abce-7fa6b2e83f42",
   "metadata": {},
   "outputs": [
    {
     "data": {
      "text/plain": [
       "count    5110.000000\n",
       "mean      106.147677\n",
       "std        45.283560\n",
       "min        55.120000\n",
       "25%        77.245000\n",
       "50%        91.885000\n",
       "75%       114.090000\n",
       "max       271.740000\n",
       "Name: avg_glucose_level, dtype: float64"
      ]
     },
     "execution_count": 20,
     "metadata": {},
     "output_type": "execute_result"
    }
   ],
   "source": [
    "df['avg_glucose_level'].describe()"
   ]
  },
  {
   "cell_type": "code",
   "execution_count": 21,
   "id": "2aa85185-2665-4a05-ace5-101926695e2e",
   "metadata": {},
   "outputs": [
    {
     "name": "stdout",
     "output_type": "stream",
     "text": [
      "Number of avg_glucose_level outliers: 49\n"
     ]
    }
   ],
   "source": [
    "glucose = df['avg_glucose_level']\n",
    "\n",
    "glucose_zscore = (glucose - glucose.mean()) / glucose.std()\n",
    "\n",
    "glucose_outliers = df[glucose_zscore.abs() > 3]\n",
    "\n",
    "print(\"Number of avg_glucose_level outliers:\", len(glucose_outliers))"
   ]
  },
  {
   "cell_type": "markdown",
   "id": "7d66f558-b594-40de-baaa-1929fc126959",
   "metadata": {},
   "source": [
    "### I.2.3.3 bmi"
   ]
  },
  {
   "cell_type": "code",
   "execution_count": 22,
   "id": "4b2740cc-b3d4-4892-b334-66fc38b08f3e",
   "metadata": {},
   "outputs": [
    {
     "data": {
      "text/plain": [
       "count    5110.000000\n",
       "mean       28.943603\n",
       "std         7.758227\n",
       "min        10.300000\n",
       "25%        23.700000\n",
       "50%        28.200000\n",
       "75%        33.000000\n",
       "max        97.600000\n",
       "Name: bmi, dtype: float64"
      ]
     },
     "execution_count": 22,
     "metadata": {},
     "output_type": "execute_result"
    }
   ],
   "source": [
    "df['bmi'].describe()"
   ]
  },
  {
   "cell_type": "code",
   "execution_count": 23,
   "id": "2ceb38b0-8bca-46f0-a602-12f3f690400f",
   "metadata": {},
   "outputs": [
    {
     "name": "stdout",
     "output_type": "stream",
     "text": [
      "Number of BMI outliers: 59\n"
     ]
    },
    {
     "data": {
      "image/png": "[encoded data removed]",
      "text/plain": [
       "<Figure size 1200x500 with 1 Axes>"
      ]
     },
     "metadata": {},
     "output_type": "display_data"
    }
   ],
   "source": [
    "bmi = df['bmi']\n",
    "\n",
    "bmi_zscore = (bmi - bmi.mean()) / bmi.std()\n",
    "\n",
    "bmi_outliers = df[bmi_zscore.abs() > 3]\n",
    "\n",
    "print(\"Number of BMI outliers:\", len(bmi_outliers))\n",
    "plt.figure(figsize=(12,5))\n",
    "sns.histplot(bmi, bins=30, kde=True)\n",
    "\n",
    "plt.axvline(bmi.mean(), color='green', linestyle='--', label='Mean')\n",
    "plt.axvline(bmi.mean() + 3*bmi.std(), color='red', linestyle='--', label='+3σ')\n",
    "plt.axvline(bmi.mean() - 3*bmi.std(), color='red', linestyle='--', label='-3σ')\n",
    "\n",
    "plt.title(\"BMI Distribution with Z-score Thresholds\")\n",
    "plt.legend()\n",
    "plt.tight_layout()\n",
    "plt.show()\n"
   ]
  },
  {
   "cell_type": "markdown",
   "id": "79a5fc44-3207-47d5-bb5b-793f6c12169c",
   "metadata": {},
   "source": [
    "##### From the distribution, the `bmi` feature appears to be normal with a slightly right skewness, the number of outliers for bmi is 59/5110 or 1.15% which is relatively small. Since we are dealing with a medical related problem and the `bmi` score for extreme cases are still relevant in real life, we will keep these outliers in this study."
   ]
  },
  {
   "cell_type": "markdown",
   "id": "8bbc7409-d50e-4cb2-bb82-5793588dd1c6",
   "metadata": {},
   "source": [
    "## I.2.4 Handling missing values/outliers for smoking_status category"
   ]
  },
  {
   "cell_type": "code",
   "execution_count": 24,
   "id": "86f89c97-bbec-4dc7-ba17-87ad5c67a1bf",
   "metadata": {},
   "outputs": [
    {
     "name": "stdout",
     "output_type": "stream",
     "text": [
      "Values in 'smoking_status':\n",
      "smoking_status\n",
      "never smoked       1892\n",
      "Unknown            1544\n",
      "formerly smoked     885\n",
      "smokes              789\n",
      "Name: count, dtype: int64\n"
     ]
    }
   ],
   "source": [
    "print(\"Values in 'smoking_status':\")\n",
    "print(df['smoking_status'].value_counts(dropna=False))"
   ]
  },
  {
   "cell_type": "code",
   "execution_count": 25,
   "id": "45a4ea4f-3149-4884-80dc-722aac1ff709",
   "metadata": {},
   "outputs": [
    {
     "data": {
      "image/png": "[encoded data removed]",
      "text/plain": [
       "<Figure size 640x480 with 1 Axes>"
      ]
     },
     "metadata": {},
     "output_type": "display_data"
    }
   ],
   "source": [
    "sns.countplot(data=df, x= 'smoking_status')\n",
    "plt.title('Smoking Status Distribution')\n",
    "plt.xticks(rotation=45)\n",
    "plt.show()"
   ]
  },
  {
   "cell_type": "code",
   "execution_count": 26,
   "id": "f04b2bbe-1131-4bf6-8fe8-b91304f87a74",
   "metadata": {},
   "outputs": [
    {
     "name": "stdout",
     "output_type": "stream",
     "text": [
      "Summary of 'Unknown' smoking status group\n",
      "        gender          age  hypertension  heart_disease ever_married  \\\n",
      "count     1544  1544.000000        1544.0         1544.0         1544   \n",
      "unique       2          NaN           2.0            2.0            2   \n",
      "top     Female          NaN           0.0            0.0           No   \n",
      "freq       836          NaN        1492.0         1496.0          901   \n",
      "mean       NaN    30.229922           NaN            NaN          NaN   \n",
      "std        NaN    25.055556           NaN            NaN          NaN   \n",
      "min        NaN     0.080000           NaN            NaN          NaN   \n",
      "25%        NaN     8.000000           NaN            NaN          NaN   \n",
      "50%        NaN    23.000000           NaN            NaN          NaN   \n",
      "75%        NaN    51.000000           NaN            NaN          NaN   \n",
      "max        NaN    82.000000           NaN            NaN          NaN   \n",
      "\n",
      "       work_type Residence_type  avg_glucose_level          bmi  \\\n",
      "count       1544           1544        1544.000000  1544.000000   \n",
      "unique         5              2                NaN          NaN   \n",
      "top      Private          Urban                NaN          NaN   \n",
      "freq         640            782                NaN          NaN   \n",
      "mean         NaN            NaN          99.601541    25.770636   \n",
      "std          NaN            NaN          36.606195     8.076428   \n",
      "min          NaN            NaN          55.230000    10.300000   \n",
      "25%          NaN            NaN          76.785000    19.500000   \n",
      "50%          NaN            NaN          90.420000    24.600000   \n",
      "75%          NaN            NaN         110.155000    30.300000   \n",
      "max          NaN            NaN         260.850000    97.600000   \n",
      "\n",
      "       smoking_status  stroke  \n",
      "count            1544  1544.0  \n",
      "unique              1     2.0  \n",
      "top           Unknown     0.0  \n",
      "freq             1544  1497.0  \n",
      "mean              NaN     NaN  \n",
      "std               NaN     NaN  \n",
      "min               NaN     NaN  \n",
      "25%               NaN     NaN  \n",
      "50%               NaN     NaN  \n",
      "75%               NaN     NaN  \n",
      "max               NaN     NaN  \n"
     ]
    }
   ],
   "source": [
    "# Check how unknown group relates to other columns\n",
    "unknowns = df[df['smoking_status'] == 'Unknown']\n",
    "print(\"Summary of 'Unknown' smoking status group\")\n",
    "print(unknowns.describe(include='all'))"
   ]
  },
  {
   "cell_type": "markdown",
   "id": "426b8991-0e7c-4828-8d25-6f062fb3462a",
   "metadata": {},
   "source": [
    "##### With this information, we can decide how to clean the data. The 'unknown' group skews to those younger and that they are often considered healthy in the hypertension and heart disease category. This means that the 'unknown' isn't just missing data but was used for those who were not applicable or were not asked. If we were to clean the data, we would not drop 'unknown' but instead rename it as 'not_applicable/asked' so it can reflect its actual use and retain the people in that group."
   ]
  },
  {
   "cell_type": "code",
   "execution_count": 27,
   "id": "cfc6b374-3677-48b2-834e-96b54f77f565",
   "metadata": {},
   "outputs": [],
   "source": [
    "# Treat \"Unknown\" as a category and fill any missing values\n",
    "df['smoking_status'] = df['smoking_status'].fillna('Unknown')"
   ]
  },
  {
   "cell_type": "code",
   "execution_count": 28,
   "id": "b6f463b0-afe9-431c-8111-27fcad8ce09d",
   "metadata": {},
   "outputs": [],
   "source": [
    "# Standardize the 'smoking_status' categories\n",
    "df['smoking_status'] = df['smoking_status'].str.lower().str.replace(' ', '_')\n",
    "\n",
    "# Rename 'unknown' to 'not_applicable/asked'\n",
    "df['smoking_status'] = df['smoking_status'].replace('unknown', 'not_applicable/asked')"
   ]
  },
  {
   "cell_type": "code",
   "execution_count": 29,
   "id": "5d53bcb9-504b-4180-a86a-347dfdcd5dfa",
   "metadata": {},
   "outputs": [
    {
     "data": {
      "text/html": [
       "<div>\n",
       "<style scoped>\n",
       "    .dataframe tbody tr th:only-of-type {\n",
       "        vertical-align: middle;\n",
       "    }\n",
       "\n",
       "    .dataframe tbody tr th {\n",
       "        vertical-align: top;\n",
       "    }\n",
       "\n",
       "    .dataframe thead th {\n",
       "        text-align: right;\n",
       "    }\n",
       "</style>\n",
       "<table border=\"1\" class=\"dataframe\">\n",
       "  <thead>\n",
       "    <tr style=\"text-align: right;\">\n",
       "      <th></th>\n",
       "      <th>gender</th>\n",
       "      <th>age</th>\n",
       "      <th>hypertension</th>\n",
       "      <th>heart_disease</th>\n",
       "      <th>ever_married</th>\n",
       "      <th>work_type</th>\n",
       "      <th>Residence_type</th>\n",
       "      <th>avg_glucose_level</th>\n",
       "      <th>bmi</th>\n",
       "      <th>smoking_status</th>\n",
       "      <th>stroke</th>\n",
       "    </tr>\n",
       "  </thead>\n",
       "  <tbody>\n",
       "    <tr>\n",
       "      <th>0</th>\n",
       "      <td>Male</td>\n",
       "      <td>67.0</td>\n",
       "      <td>0</td>\n",
       "      <td>1</td>\n",
       "      <td>Yes</td>\n",
       "      <td>Private</td>\n",
       "      <td>Urban</td>\n",
       "      <td>228.69</td>\n",
       "      <td>36.600</td>\n",
       "      <td>formerly_smoked</td>\n",
       "      <td>1</td>\n",
       "    </tr>\n",
       "    <tr>\n",
       "      <th>1</th>\n",
       "      <td>Female</td>\n",
       "      <td>61.0</td>\n",
       "      <td>0</td>\n",
       "      <td>0</td>\n",
       "      <td>Yes</td>\n",
       "      <td>Self-employed</td>\n",
       "      <td>Rural</td>\n",
       "      <td>202.21</td>\n",
       "      <td>34.650</td>\n",
       "      <td>never_smoked</td>\n",
       "      <td>1</td>\n",
       "    </tr>\n",
       "    <tr>\n",
       "      <th>2</th>\n",
       "      <td>Male</td>\n",
       "      <td>80.0</td>\n",
       "      <td>0</td>\n",
       "      <td>1</td>\n",
       "      <td>Yes</td>\n",
       "      <td>Private</td>\n",
       "      <td>Rural</td>\n",
       "      <td>105.92</td>\n",
       "      <td>32.500</td>\n",
       "      <td>never_smoked</td>\n",
       "      <td>1</td>\n",
       "    </tr>\n",
       "    <tr>\n",
       "      <th>3</th>\n",
       "      <td>Female</td>\n",
       "      <td>49.0</td>\n",
       "      <td>0</td>\n",
       "      <td>0</td>\n",
       "      <td>Yes</td>\n",
       "      <td>Private</td>\n",
       "      <td>Urban</td>\n",
       "      <td>171.23</td>\n",
       "      <td>34.400</td>\n",
       "      <td>smokes</td>\n",
       "      <td>1</td>\n",
       "    </tr>\n",
       "    <tr>\n",
       "      <th>4</th>\n",
       "      <td>Female</td>\n",
       "      <td>79.0</td>\n",
       "      <td>1</td>\n",
       "      <td>0</td>\n",
       "      <td>Yes</td>\n",
       "      <td>Self-employed</td>\n",
       "      <td>Rural</td>\n",
       "      <td>174.12</td>\n",
       "      <td>24.000</td>\n",
       "      <td>never_smoked</td>\n",
       "      <td>1</td>\n",
       "    </tr>\n",
       "    <tr>\n",
       "      <th>...</th>\n",
       "      <td>...</td>\n",
       "      <td>...</td>\n",
       "      <td>...</td>\n",
       "      <td>...</td>\n",
       "      <td>...</td>\n",
       "      <td>...</td>\n",
       "      <td>...</td>\n",
       "      <td>...</td>\n",
       "      <td>...</td>\n",
       "      <td>...</td>\n",
       "      <td>...</td>\n",
       "    </tr>\n",
       "    <tr>\n",
       "      <th>5105</th>\n",
       "      <td>Female</td>\n",
       "      <td>80.0</td>\n",
       "      <td>1</td>\n",
       "      <td>0</td>\n",
       "      <td>Yes</td>\n",
       "      <td>Private</td>\n",
       "      <td>Urban</td>\n",
       "      <td>83.75</td>\n",
       "      <td>27.175</td>\n",
       "      <td>never_smoked</td>\n",
       "      <td>0</td>\n",
       "    </tr>\n",
       "    <tr>\n",
       "      <th>5106</th>\n",
       "      <td>Female</td>\n",
       "      <td>81.0</td>\n",
       "      <td>0</td>\n",
       "      <td>0</td>\n",
       "      <td>Yes</td>\n",
       "      <td>Self-employed</td>\n",
       "      <td>Urban</td>\n",
       "      <td>125.20</td>\n",
       "      <td>40.000</td>\n",
       "      <td>never_smoked</td>\n",
       "      <td>0</td>\n",
       "    </tr>\n",
       "    <tr>\n",
       "      <th>5107</th>\n",
       "      <td>Female</td>\n",
       "      <td>35.0</td>\n",
       "      <td>0</td>\n",
       "      <td>0</td>\n",
       "      <td>Yes</td>\n",
       "      <td>Self-employed</td>\n",
       "      <td>Rural</td>\n",
       "      <td>82.99</td>\n",
       "      <td>30.600</td>\n",
       "      <td>never_smoked</td>\n",
       "      <td>0</td>\n",
       "    </tr>\n",
       "    <tr>\n",
       "      <th>5108</th>\n",
       "      <td>Male</td>\n",
       "      <td>51.0</td>\n",
       "      <td>0</td>\n",
       "      <td>0</td>\n",
       "      <td>Yes</td>\n",
       "      <td>Private</td>\n",
       "      <td>Rural</td>\n",
       "      <td>166.29</td>\n",
       "      <td>25.600</td>\n",
       "      <td>formerly_smoked</td>\n",
       "      <td>0</td>\n",
       "    </tr>\n",
       "    <tr>\n",
       "      <th>5109</th>\n",
       "      <td>Female</td>\n",
       "      <td>44.0</td>\n",
       "      <td>0</td>\n",
       "      <td>0</td>\n",
       "      <td>Yes</td>\n",
       "      <td>Govt_job</td>\n",
       "      <td>Urban</td>\n",
       "      <td>85.28</td>\n",
       "      <td>26.200</td>\n",
       "      <td>not_applicable/asked</td>\n",
       "      <td>0</td>\n",
       "    </tr>\n",
       "  </tbody>\n",
       "</table>\n",
       "<p>5110 rows × 11 columns</p>\n",
       "</div>"
      ],
      "text/plain": [
       "      gender   age hypertension heart_disease ever_married      work_type  \\\n",
       "0       Male  67.0            0             1          Yes        Private   \n",
       "1     Female  61.0            0             0          Yes  Self-employed   \n",
       "2       Male  80.0            0             1          Yes        Private   \n",
       "3     Female  49.0            0             0          Yes        Private   \n",
       "4     Female  79.0            1             0          Yes  Self-employed   \n",
       "...      ...   ...          ...           ...          ...            ...   \n",
       "5105  Female  80.0            1             0          Yes        Private   \n",
       "5106  Female  81.0            0             0          Yes  Self-employed   \n",
       "5107  Female  35.0            0             0          Yes  Self-employed   \n",
       "5108    Male  51.0            0             0          Yes        Private   \n",
       "5109  Female  44.0            0             0          Yes       Govt_job   \n",
       "\n",
       "     Residence_type  avg_glucose_level     bmi        smoking_status stroke  \n",
       "0             Urban             228.69  36.600       formerly_smoked      1  \n",
       "1             Rural             202.21  34.650          never_smoked      1  \n",
       "2             Rural             105.92  32.500          never_smoked      1  \n",
       "3             Urban             171.23  34.400                smokes      1  \n",
       "4             Rural             174.12  24.000          never_smoked      1  \n",
       "...             ...                ...     ...                   ...    ...  \n",
       "5105          Urban              83.75  27.175          never_smoked      0  \n",
       "5106          Urban             125.20  40.000          never_smoked      0  \n",
       "5107          Rural              82.99  30.600          never_smoked      0  \n",
       "5108          Rural             166.29  25.600       formerly_smoked      0  \n",
       "5109          Urban              85.28  26.200  not_applicable/asked      0  \n",
       "\n",
       "[5110 rows x 11 columns]"
      ]
     },
     "execution_count": 29,
     "metadata": {},
     "output_type": "execute_result"
    }
   ],
   "source": [
    "df"
   ]
  },
  {
   "cell_type": "markdown",
   "id": "204eebee-1a5f-4e60-8f66-8182eb481db7",
   "metadata": {},
   "source": [
    "## I.3. Saving the clean data"
   ]
  },
  {
   "cell_type": "code",
   "execution_count": 30,
   "id": "bb37c79e-d78e-4459-b84f-184e14d8654a",
   "metadata": {},
   "outputs": [],
   "source": [
    "df.to_csv(\"Data/newdata.csv\", index=False)"
   ]
  },
  {
   "cell_type": "markdown",
   "id": "3323cbda-8e94-427d-9e85-440f05062e54",
   "metadata": {},
   "source": [
    "### Check the new data"
   ]
  },
  {
   "cell_type": "code",
   "execution_count": 31,
   "id": "63cb86ef-c848-4646-989b-a8de06c77ef7",
   "metadata": {},
   "outputs": [],
   "source": [
    "df = pd.read_csv(\"Data/newdata.csv\")"
   ]
  },
  {
   "cell_type": "code",
   "execution_count": 32,
   "id": "5ee6d4fd-43bf-4e66-bc51-486da71389e1",
   "metadata": {},
   "outputs": [
    {
     "data": {
      "text/html": [
       "<div>\n",
       "<style scoped>\n",
       "    .dataframe tbody tr th:only-of-type {\n",
       "        vertical-align: middle;\n",
       "    }\n",
       "\n",
       "    .dataframe tbody tr th {\n",
       "        vertical-align: top;\n",
       "    }\n",
       "\n",
       "    .dataframe thead th {\n",
       "        text-align: right;\n",
       "    }\n",
       "</style>\n",
       "<table border=\"1\" class=\"dataframe\">\n",
       "  <thead>\n",
       "    <tr style=\"text-align: right;\">\n",
       "      <th></th>\n",
       "      <th>gender</th>\n",
       "      <th>age</th>\n",
       "      <th>hypertension</th>\n",
       "      <th>heart_disease</th>\n",
       "      <th>ever_married</th>\n",
       "      <th>work_type</th>\n",
       "      <th>Residence_type</th>\n",
       "      <th>avg_glucose_level</th>\n",
       "      <th>bmi</th>\n",
       "      <th>smoking_status</th>\n",
       "      <th>stroke</th>\n",
       "    </tr>\n",
       "  </thead>\n",
       "  <tbody>\n",
       "    <tr>\n",
       "      <th>0</th>\n",
       "      <td>Male</td>\n",
       "      <td>67.0</td>\n",
       "      <td>0</td>\n",
       "      <td>1</td>\n",
       "      <td>Yes</td>\n",
       "      <td>Private</td>\n",
       "      <td>Urban</td>\n",
       "      <td>228.69</td>\n",
       "      <td>36.6000</td>\n",
       "      <td>formerly_smoked</td>\n",
       "      <td>1</td>\n",
       "    </tr>\n",
       "    <tr>\n",
       "      <th>1</th>\n",
       "      <td>Female</td>\n",
       "      <td>61.0</td>\n",
       "      <td>0</td>\n",
       "      <td>0</td>\n",
       "      <td>Yes</td>\n",
       "      <td>Self-employed</td>\n",
       "      <td>Rural</td>\n",
       "      <td>202.21</td>\n",
       "      <td>34.6500</td>\n",
       "      <td>never_smoked</td>\n",
       "      <td>1</td>\n",
       "    </tr>\n",
       "    <tr>\n",
       "      <th>2</th>\n",
       "      <td>Male</td>\n",
       "      <td>80.0</td>\n",
       "      <td>0</td>\n",
       "      <td>1</td>\n",
       "      <td>Yes</td>\n",
       "      <td>Private</td>\n",
       "      <td>Rural</td>\n",
       "      <td>105.92</td>\n",
       "      <td>32.5000</td>\n",
       "      <td>never_smoked</td>\n",
       "      <td>1</td>\n",
       "    </tr>\n",
       "    <tr>\n",
       "      <th>3</th>\n",
       "      <td>Female</td>\n",
       "      <td>49.0</td>\n",
       "      <td>0</td>\n",
       "      <td>0</td>\n",
       "      <td>Yes</td>\n",
       "      <td>Private</td>\n",
       "      <td>Urban</td>\n",
       "      <td>171.23</td>\n",
       "      <td>34.4000</td>\n",
       "      <td>smokes</td>\n",
       "      <td>1</td>\n",
       "    </tr>\n",
       "    <tr>\n",
       "      <th>4</th>\n",
       "      <td>Female</td>\n",
       "      <td>79.0</td>\n",
       "      <td>1</td>\n",
       "      <td>0</td>\n",
       "      <td>Yes</td>\n",
       "      <td>Self-employed</td>\n",
       "      <td>Rural</td>\n",
       "      <td>174.12</td>\n",
       "      <td>24.0000</td>\n",
       "      <td>never_smoked</td>\n",
       "      <td>1</td>\n",
       "    </tr>\n",
       "    <tr>\n",
       "      <th>5</th>\n",
       "      <td>Male</td>\n",
       "      <td>81.0</td>\n",
       "      <td>0</td>\n",
       "      <td>0</td>\n",
       "      <td>Yes</td>\n",
       "      <td>Private</td>\n",
       "      <td>Urban</td>\n",
       "      <td>186.21</td>\n",
       "      <td>29.0000</td>\n",
       "      <td>formerly_smoked</td>\n",
       "      <td>1</td>\n",
       "    </tr>\n",
       "    <tr>\n",
       "      <th>6</th>\n",
       "      <td>Male</td>\n",
       "      <td>74.0</td>\n",
       "      <td>1</td>\n",
       "      <td>1</td>\n",
       "      <td>Yes</td>\n",
       "      <td>Private</td>\n",
       "      <td>Rural</td>\n",
       "      <td>70.09</td>\n",
       "      <td>27.4000</td>\n",
       "      <td>never_smoked</td>\n",
       "      <td>1</td>\n",
       "    </tr>\n",
       "    <tr>\n",
       "      <th>7</th>\n",
       "      <td>Female</td>\n",
       "      <td>69.0</td>\n",
       "      <td>0</td>\n",
       "      <td>0</td>\n",
       "      <td>No</td>\n",
       "      <td>Private</td>\n",
       "      <td>Urban</td>\n",
       "      <td>94.39</td>\n",
       "      <td>22.8000</td>\n",
       "      <td>never_smoked</td>\n",
       "      <td>1</td>\n",
       "    </tr>\n",
       "    <tr>\n",
       "      <th>8</th>\n",
       "      <td>Female</td>\n",
       "      <td>59.0</td>\n",
       "      <td>0</td>\n",
       "      <td>0</td>\n",
       "      <td>Yes</td>\n",
       "      <td>Private</td>\n",
       "      <td>Rural</td>\n",
       "      <td>76.15</td>\n",
       "      <td>27.5375</td>\n",
       "      <td>not_applicable/asked</td>\n",
       "      <td>1</td>\n",
       "    </tr>\n",
       "    <tr>\n",
       "      <th>9</th>\n",
       "      <td>Female</td>\n",
       "      <td>78.0</td>\n",
       "      <td>0</td>\n",
       "      <td>0</td>\n",
       "      <td>Yes</td>\n",
       "      <td>Private</td>\n",
       "      <td>Urban</td>\n",
       "      <td>58.57</td>\n",
       "      <td>24.2000</td>\n",
       "      <td>not_applicable/asked</td>\n",
       "      <td>1</td>\n",
       "    </tr>\n",
       "  </tbody>\n",
       "</table>\n",
       "</div>"
      ],
      "text/plain": [
       "   gender   age  hypertension  heart_disease ever_married      work_type  \\\n",
       "0    Male  67.0             0              1          Yes        Private   \n",
       "1  Female  61.0             0              0          Yes  Self-employed   \n",
       "2    Male  80.0             0              1          Yes        Private   \n",
       "3  Female  49.0             0              0          Yes        Private   \n",
       "4  Female  79.0             1              0          Yes  Self-employed   \n",
       "5    Male  81.0             0              0          Yes        Private   \n",
       "6    Male  74.0             1              1          Yes        Private   \n",
       "7  Female  69.0             0              0           No        Private   \n",
       "8  Female  59.0             0              0          Yes        Private   \n",
       "9  Female  78.0             0              0          Yes        Private   \n",
       "\n",
       "  Residence_type  avg_glucose_level      bmi        smoking_status  stroke  \n",
       "0          Urban             228.69  36.6000       formerly_smoked       1  \n",
       "1          Rural             202.21  34.6500          never_smoked       1  \n",
       "2          Rural             105.92  32.5000          never_smoked       1  \n",
       "3          Urban             171.23  34.4000                smokes       1  \n",
       "4          Rural             174.12  24.0000          never_smoked       1  \n",
       "5          Urban             186.21  29.0000       formerly_smoked       1  \n",
       "6          Rural              70.09  27.4000          never_smoked       1  \n",
       "7          Urban              94.39  22.8000          never_smoked       1  \n",
       "8          Rural              76.15  27.5375  not_applicable/asked       1  \n",
       "9          Urban              58.57  24.2000  not_applicable/asked       1  "
      ]
     },
     "execution_count": 32,
     "metadata": {},
     "output_type": "execute_result"
    }
   ],
   "source": [
    "df.head(10)"
   ]
  },
  {
   "cell_type": "markdown",
   "id": "29361e73-fe1f-4d6c-9de6-d4175dd3a9c5",
   "metadata": {},
   "source": [
    "# **Stage II: Statistical Analysis**\n",
    "---"
   ]
  },
  {
   "cell_type": "markdown",
   "id": "1e0e968e-f038-4129-8364-950c025a545d",
   "metadata": {},
   "source": [
    "## II.1 Descriptive Statistics"
   ]
  },
  {
   "cell_type": "code",
   "execution_count": 33,
   "id": "147ce715-8eb4-47f9-82f8-8e348900260b",
   "metadata": {},
   "outputs": [
    {
     "data": {
      "text/html": [
       "<div>\n",
       "<style scoped>\n",
       "    .dataframe tbody tr th:only-of-type {\n",
       "        vertical-align: middle;\n",
       "    }\n",
       "\n",
       "    .dataframe tbody tr th {\n",
       "        vertical-align: top;\n",
       "    }\n",
       "\n",
       "    .dataframe thead th {\n",
       "        text-align: right;\n",
       "    }\n",
       "</style>\n",
       "<table border=\"1\" class=\"dataframe\">\n",
       "  <thead>\n",
       "    <tr style=\"text-align: right;\">\n",
       "      <th></th>\n",
       "      <th>gender</th>\n",
       "      <th>age</th>\n",
       "      <th>hypertension</th>\n",
       "      <th>heart_disease</th>\n",
       "      <th>ever_married</th>\n",
       "      <th>work_type</th>\n",
       "      <th>Residence_type</th>\n",
       "      <th>avg_glucose_level</th>\n",
       "      <th>bmi</th>\n",
       "      <th>smoking_status</th>\n",
       "      <th>stroke</th>\n",
       "    </tr>\n",
       "  </thead>\n",
       "  <tbody>\n",
       "    <tr>\n",
       "      <th>0</th>\n",
       "      <td>Male</td>\n",
       "      <td>67.0</td>\n",
       "      <td>0</td>\n",
       "      <td>1</td>\n",
       "      <td>Yes</td>\n",
       "      <td>Private</td>\n",
       "      <td>Urban</td>\n",
       "      <td>228.69</td>\n",
       "      <td>36.6000</td>\n",
       "      <td>formerly_smoked</td>\n",
       "      <td>1</td>\n",
       "    </tr>\n",
       "    <tr>\n",
       "      <th>1</th>\n",
       "      <td>Female</td>\n",
       "      <td>61.0</td>\n",
       "      <td>0</td>\n",
       "      <td>0</td>\n",
       "      <td>Yes</td>\n",
       "      <td>Self-employed</td>\n",
       "      <td>Rural</td>\n",
       "      <td>202.21</td>\n",
       "      <td>34.6500</td>\n",
       "      <td>never_smoked</td>\n",
       "      <td>1</td>\n",
       "    </tr>\n",
       "    <tr>\n",
       "      <th>2</th>\n",
       "      <td>Male</td>\n",
       "      <td>80.0</td>\n",
       "      <td>0</td>\n",
       "      <td>1</td>\n",
       "      <td>Yes</td>\n",
       "      <td>Private</td>\n",
       "      <td>Rural</td>\n",
       "      <td>105.92</td>\n",
       "      <td>32.5000</td>\n",
       "      <td>never_smoked</td>\n",
       "      <td>1</td>\n",
       "    </tr>\n",
       "    <tr>\n",
       "      <th>3</th>\n",
       "      <td>Female</td>\n",
       "      <td>49.0</td>\n",
       "      <td>0</td>\n",
       "      <td>0</td>\n",
       "      <td>Yes</td>\n",
       "      <td>Private</td>\n",
       "      <td>Urban</td>\n",
       "      <td>171.23</td>\n",
       "      <td>34.4000</td>\n",
       "      <td>smokes</td>\n",
       "      <td>1</td>\n",
       "    </tr>\n",
       "    <tr>\n",
       "      <th>4</th>\n",
       "      <td>Female</td>\n",
       "      <td>79.0</td>\n",
       "      <td>1</td>\n",
       "      <td>0</td>\n",
       "      <td>Yes</td>\n",
       "      <td>Self-employed</td>\n",
       "      <td>Rural</td>\n",
       "      <td>174.12</td>\n",
       "      <td>24.0000</td>\n",
       "      <td>never_smoked</td>\n",
       "      <td>1</td>\n",
       "    </tr>\n",
       "    <tr>\n",
       "      <th>5</th>\n",
       "      <td>Male</td>\n",
       "      <td>81.0</td>\n",
       "      <td>0</td>\n",
       "      <td>0</td>\n",
       "      <td>Yes</td>\n",
       "      <td>Private</td>\n",
       "      <td>Urban</td>\n",
       "      <td>186.21</td>\n",
       "      <td>29.0000</td>\n",
       "      <td>formerly_smoked</td>\n",
       "      <td>1</td>\n",
       "    </tr>\n",
       "    <tr>\n",
       "      <th>6</th>\n",
       "      <td>Male</td>\n",
       "      <td>74.0</td>\n",
       "      <td>1</td>\n",
       "      <td>1</td>\n",
       "      <td>Yes</td>\n",
       "      <td>Private</td>\n",
       "      <td>Rural</td>\n",
       "      <td>70.09</td>\n",
       "      <td>27.4000</td>\n",
       "      <td>never_smoked</td>\n",
       "      <td>1</td>\n",
       "    </tr>\n",
       "    <tr>\n",
       "      <th>7</th>\n",
       "      <td>Female</td>\n",
       "      <td>69.0</td>\n",
       "      <td>0</td>\n",
       "      <td>0</td>\n",
       "      <td>No</td>\n",
       "      <td>Private</td>\n",
       "      <td>Urban</td>\n",
       "      <td>94.39</td>\n",
       "      <td>22.8000</td>\n",
       "      <td>never_smoked</td>\n",
       "      <td>1</td>\n",
       "    </tr>\n",
       "    <tr>\n",
       "      <th>8</th>\n",
       "      <td>Female</td>\n",
       "      <td>59.0</td>\n",
       "      <td>0</td>\n",
       "      <td>0</td>\n",
       "      <td>Yes</td>\n",
       "      <td>Private</td>\n",
       "      <td>Rural</td>\n",
       "      <td>76.15</td>\n",
       "      <td>27.5375</td>\n",
       "      <td>not_applicable/asked</td>\n",
       "      <td>1</td>\n",
       "    </tr>\n",
       "    <tr>\n",
       "      <th>9</th>\n",
       "      <td>Female</td>\n",
       "      <td>78.0</td>\n",
       "      <td>0</td>\n",
       "      <td>0</td>\n",
       "      <td>Yes</td>\n",
       "      <td>Private</td>\n",
       "      <td>Urban</td>\n",
       "      <td>58.57</td>\n",
       "      <td>24.2000</td>\n",
       "      <td>not_applicable/asked</td>\n",
       "      <td>1</td>\n",
       "    </tr>\n",
       "  </tbody>\n",
       "</table>\n",
       "</div>"
      ],
      "text/plain": [
       "   gender   age  hypertension  heart_disease ever_married      work_type  \\\n",
       "0    Male  67.0             0              1          Yes        Private   \n",
       "1  Female  61.0             0              0          Yes  Self-employed   \n",
       "2    Male  80.0             0              1          Yes        Private   \n",
       "3  Female  49.0             0              0          Yes        Private   \n",
       "4  Female  79.0             1              0          Yes  Self-employed   \n",
       "5    Male  81.0             0              0          Yes        Private   \n",
       "6    Male  74.0             1              1          Yes        Private   \n",
       "7  Female  69.0             0              0           No        Private   \n",
       "8  Female  59.0             0              0          Yes        Private   \n",
       "9  Female  78.0             0              0          Yes        Private   \n",
       "\n",
       "  Residence_type  avg_glucose_level      bmi        smoking_status  stroke  \n",
       "0          Urban             228.69  36.6000       formerly_smoked       1  \n",
       "1          Rural             202.21  34.6500          never_smoked       1  \n",
       "2          Rural             105.92  32.5000          never_smoked       1  \n",
       "3          Urban             171.23  34.4000                smokes       1  \n",
       "4          Rural             174.12  24.0000          never_smoked       1  \n",
       "5          Urban             186.21  29.0000       formerly_smoked       1  \n",
       "6          Rural              70.09  27.4000          never_smoked       1  \n",
       "7          Urban              94.39  22.8000          never_smoked       1  \n",
       "8          Rural              76.15  27.5375  not_applicable/asked       1  \n",
       "9          Urban              58.57  24.2000  not_applicable/asked       1  "
      ]
     },
     "execution_count": 33,
     "metadata": {},
     "output_type": "execute_result"
    }
   ],
   "source": [
    "df = pd.read_csv(\"Data/newdata.csv\")\n",
    "df.head(10)"
   ]
  },
  {
   "cell_type": "code",
   "execution_count": 34,
   "id": "e3c72e07-ed23-4e8f-8b3f-ddf95ea9e7c8",
   "metadata": {},
   "outputs": [
    {
     "name": "stdout",
     "output_type": "stream",
     "text": [
      "<class 'pandas.core.frame.DataFrame'>\n",
      "RangeIndex: 5110 entries, 0 to 5109\n",
      "Data columns (total 11 columns):\n",
      " #   Column             Non-Null Count  Dtype  \n",
      "---  ------             --------------  -----  \n",
      " 0   gender             5110 non-null   object \n",
      " 1   age                5110 non-null   float64\n",
      " 2   hypertension       5110 non-null   int64  \n",
      " 3   heart_disease      5110 non-null   int64  \n",
      " 4   ever_married       5110 non-null   object \n",
      " 5   work_type          5110 non-null   object \n",
      " 6   Residence_type     5110 non-null   object \n",
      " 7   avg_glucose_level  5110 non-null   float64\n",
      " 8   bmi                5110 non-null   float64\n",
      " 9   smoking_status     5110 non-null   object \n",
      " 10  stroke             5110 non-null   int64  \n",
      "dtypes: float64(3), int64(3), object(5)\n",
      "memory usage: 439.3+ KB\n"
     ]
    }
   ],
   "source": [
    "df.info()"
   ]
  },
  {
   "cell_type": "markdown",
   "id": "6f6f7523-df67-4cf5-94c0-d5b44518095a",
   "metadata": {},
   "source": [
    "#### The dataset consists of  3 numerical features (bmi, age ,avg_glucose_level) and 7 categorical features(gender, hypertension, heart_disease, ever_married, work_type, residence_type, smoking status) with the last feature called stroke be use as label. "
   ]
  },
  {
   "cell_type": "markdown",
   "id": "93d47c74-9e18-42c6-bdb5-2bc40c5e262f",
   "metadata": {},
   "source": [
    "### II.1.a Calculate the mean, median, variance, skewness and kurtosis for the numerical features:"
   ]
  },
  {
   "cell_type": "code",
   "execution_count": 35,
   "id": "2864eee3-baa6-4f26-b121-d1daced94348",
   "metadata": {},
   "outputs": [],
   "source": [
    "nfeatures = [\"bmi\", \"age\", \"avg_glucose_level\"]"
   ]
  },
  {
   "cell_type": "code",
   "execution_count": 36,
   "id": "9a8988a5-c992-4160-a76e-5bbb7df23fa3",
   "metadata": {},
   "outputs": [
    {
     "name": "stdout",
     "output_type": "stream",
     "text": [
      "                     mean  median  variance  skewness  kurtosis\n",
      "bmi                 28.94   28.20     60.19      1.04      3.42\n",
      "age                 43.23   45.00    511.33     -0.14     -0.99\n",
      "avg_glucose_level  106.15   91.88   2050.60      1.57      1.68\n"
     ]
    }
   ],
   "source": [
    "stats = pd.DataFrame({\n",
    "    \"mean\": df[nfeatures].mean(),\n",
    "    \"median\": df[nfeatures].median(),\n",
    "    \"variance\": df[nfeatures].var(),\n",
    "    \"skewness\": df[nfeatures].skew(),\n",
    "    \"kurtosis\": df[nfeatures].kurt()\n",
    "})\n",
    "\n",
    "stats = stats.round(2)\n",
    "print(stats)"
   ]
  },
  {
   "cell_type": "markdown",
   "id": "352960e7-1524-42ea-b3f0-4375c46292f6",
   "metadata": {},
   "source": [
    "### II.1.b Identify datatype"
   ]
  },
  {
   "cell_type": "markdown",
   "id": "c1ec5141-d950-405f-b7a9-d33bd5b8d030",
   "metadata": {},
   "source": [
    "We examine three selected features: **`avg_glucose_level`**, **`bmi`**, and **`age`**.  \n",
    "All of them are continuous numerical features, because:\n",
    "\n",
    "#### 1. `avg_glucose_level`\n",
    "- **Type:** Float64  \n",
    "- **Range:** 55.12 - 271.74  \n",
    "- **Description:** Represents a patient's average blood glucose level.  \n",
    "- This feature has value that vary over a range between 55.12 - 271.74, so it is a **continuous numerical feature**.\n",
    "\n",
    "#### 2. `bmi`\n",
    "- **Type:** Float64  \n",
    "- **Range:** 10.3 - 97.6  \n",
    "- **Description:** Body Mass Index (BMI), calculated from height and weight.  \n",
    "- BMI values can include fractions (e.g., 23.7), so this is a **continuous numerical feature**.\n",
    "\n",
    "#### 3. `age`\n",
    "- **Type:** Float64  \n",
    "- **Range:** 0.08 - 82  \n",
    "- **Description:** Represents patient age. In this dataset, decimals are present .  \n",
    "- Age is therefore treated as a **continuous numerical feature**."
   ]
  },
  {
   "cell_type": "markdown",
   "id": "1ac0dec9-a12f-40f1-a48d-aac00239b5f8",
   "metadata": {},
   "source": [
    "## II.2  Distribution Fitting"
   ]
  },
  {
   "cell_type": "markdown",
   "id": "4c1e2ff5-9372-4b92-9702-110e12aa2577",
   "metadata": {},
   "source": [
    "### a) We select BMI (Body Mass Index)\n",
    "* Type: Continuous numerical\n",
    "* Range: 10.3 - 97.6\n",
    "* Description: BMI is calculated from a person's height and weight and is used to assess body fat and health risk\n",
    "#### We choose Gamma Distribution because:\n",
    "* Gamma is defined only for positive real numbers and BMI can not be negative.\n",
    "* Gamma is a good fit for right skewed model.\n"
   ]
  },
  {
   "cell_type": "markdown",
   "id": "a2af3748-e950-4681-943f-1797baaa7fa3",
   "metadata": {},
   "source": [
    "### b) Plot Histogram"
   ]
  },
  {
   "cell_type": "code",
   "execution_count": 37,
   "id": "c4d48a14-b35c-4028-8dce-2cfe3c24ced6",
   "metadata": {},
   "outputs": [
    {
     "data": {
      "image/png": "[encoded data removed]",
      "text/plain": [
       "<Figure size 800x600 with 1 Axes>"
      ]
     },
     "metadata": {},
     "output_type": "display_data"
    }
   ],
   "source": [
    "from scipy.stats.distributions import gamma\n",
    "#extract bmi data\n",
    "data = df['bmi']\n",
    "#Get mean and variance\n",
    "bmi_mean = data.mean()\n",
    "bmi_var = data.var()\n",
    "#calculate alpha and beta \n",
    "alpha_mom = bmi_mean ** 2 / bmi_var\n",
    "beta_mom = bmi_var / bmi_mean\n",
    "#Plot histogram\n",
    "data.hist(density=True, bins=20, ec='black', figsize=(8,6))\n",
    "#Overlay Gamma PDF\n",
    "label = f'alpha = {alpha_mom:.2f}\\nbeta = {beta_mom:.2f}'\n",
    "plt.annotate(label, xy=(10, 0.02))\n",
    "\n",
    "x = np.linspace(data.min(), data.max(), 100)\n",
    "pdf = gamma.pdf(x, a=alpha_mom, scale=beta_mom)\n",
    "\n",
    "plt.plot(x, pdf, 'r',linewidth=2, label='Gamma Fit')\n",
    "\n",
    "plt.xlabel('BMI')\n",
    "plt.ylabel('Density')\n",
    "plt.title('BMI Histogram with Gamma Distribution Fit')\n",
    "plt.legend()\n",
    "plt.show()\n"
   ]
  },
  {
   "cell_type": "code",
   "execution_count": 64,
   "id": "31a03777-1aaa-4cf2-92c9-99640691612d",
   "metadata": {},
   "outputs": [
    {
     "name": "stdout",
     "output_type": "stream",
     "text": [
      "Population Mean: 28.9436\n",
      "Population Variance: 60.1901\n"
     ]
    }
   ],
   "source": [
    "print(f\"Population Mean: {bmi_mean:.4f}\")\n",
    "print(f\"Population Variance: {bmi_var:.4f}\")"
   ]
  },
  {
   "cell_type": "markdown",
   "id": "5d60c25f-7b8c-47fd-ae69-cddcb58119aa",
   "metadata": {},
   "source": [
    "### Discussion: \n",
    "* The histogram shows a clear right skew, with most BMI values clustered between 19 and 38. The Gamma curve mirrors this skew well.\n"
   ]
  },
  {
   "cell_type": "markdown",
   "id": "1e85d6c4-8e34-49bd-92d9-fb2bdc57ed59",
   "metadata": {},
   "source": [
    "## II.3 Point Estimate"
   ]
  },
  {
   "cell_type": "markdown",
   "id": "b6dd538c-51ad-43e1-b10e-047b99575422",
   "metadata": {},
   "source": [
    "### II.3.a Random Sampling:"
   ]
  },
  {
   "cell_type": "code",
   "execution_count": 48,
   "id": "12e20490-c06a-4eb6-91a3-1d741d3e257e",
   "metadata": {},
   "outputs": [
    {
     "data": {
      "image/png": "[encoded data removed]",
      "text/plain": [
       "<Figure size 800x600 with 1 Axes>"
      ]
     },
     "metadata": {},
     "output_type": "display_data"
    }
   ],
   "source": [
    "np.random.seed(42)\n",
    "sample_bmi = pd.Series(np.random.choice(a=df['bmi'], size=500))\n",
    "\n",
    "plt.figure(figsize=(8,6))\n",
    "plt.hist(sample_bmi, bins=20, density=True, edgecolor='black', label='Sample BMI')\n",
    "\n",
    "plt.xlabel('BMI')\n",
    "plt.ylabel('Density')\n",
    "plt.title('100 Random Samples for BMI')\n",
    "plt.legend()\n",
    "plt.show()"
   ]
  },
  {
   "cell_type": "markdown",
   "id": "e173d06a-0889-4298-b411-525e39f635af",
   "metadata": {},
   "source": [
    "#### Compare the sample mean and variance with the population mean and variance"
   ]
  },
  {
   "cell_type": "code",
   "execution_count": 52,
   "id": "a8e402d0-64f1-4ebf-a939-b9a3670035dd",
   "metadata": {},
   "outputs": [
    {
     "name": "stdout",
     "output_type": "stream",
     "text": [
      "Mean difference: 0.335\n",
      "Variance difference: 6.227\n"
     ]
    }
   ],
   "source": [
    "#Sample mean and variance\n",
    "sample_mean = sample_bmi.mean()\n",
    "sample_var = sample_bmi.var()\n",
    "\n",
    "#Pop mean and variance\n",
    "pop_mean = df['bmi'].mean()\n",
    "pop_var = df['bmi'].var()\n",
    "\n",
    "print(f\"Mean difference: {abs(sample_mean - pop_mean):.3f}\")\n",
    "print(f\"Variance difference: {abs(sample_var - pop_var):.3f}\")"
   ]
  },
  {
   "cell_type": "code",
   "execution_count": null,
   "id": "380d0250-e549-48c1-86bf-57d3a9af2655",
   "metadata": {},
   "outputs": [],
   "source": [
    "Our sample mean is very close to the population mean with a difference of 0.335. The sample variance show slightly bigger in difference when \n",
    "comparing to the population variance, which is likely due to random sampling with a small subset of data."
   ]
  },
  {
   "cell_type": "markdown",
   "id": "0f5796f1-fbe2-4227-8ddf-0695aabe6806",
   "metadata": {},
   "source": [
    "### II.3.b Discussion:"
   ]
  },
  {
   "cell_type": "code",
   "execution_count": 65,
   "id": "ab47150b-88d9-4bad-82b1-b71f00981abe",
   "metadata": {},
   "outputs": [
    {
     "data": {
      "image/png": "[encoded data removed]",
      "text/plain": [
       "<Figure size 800x600 with 1 Axes>"
      ]
     },
     "metadata": {},
     "output_type": "display_data"
    },
    {
     "name": "stdout",
     "output_type": "stream",
     "text": [
      "Sample 1 mean: 31.12\n",
      "Sample 1 variance: 90.82\n"
     ]
    },
    {
     "data": {
      "image/png": "[encoded data removed]",
      "text/plain": [
       "<Figure size 800x600 with 1 Axes>"
      ]
     },
     "metadata": {},
     "output_type": "display_data"
    },
    {
     "name": "stdout",
     "output_type": "stream",
     "text": [
      "Sample 2 mean: 28.15\n",
      "Sample 2 variance: 53.40\n"
     ]
    },
    {
     "data": {
      "image/png": "[encoded data removed]",
      "text/plain": [
       "<Figure size 800x600 with 1 Axes>"
      ]
     },
     "metadata": {},
     "output_type": "display_data"
    },
    {
     "name": "stdout",
     "output_type": "stream",
     "text": [
      "Sample 3 mean: 29.61\n",
      "Sample 3 variance: 72.78\n"
     ]
    }
   ],
   "source": [
    "for i in range(3):\n",
    "    np.random.seed(i+1)\n",
    "    sample_bmi = pd.Series(np.random.choice(a=df['bmi'], size=100))\n",
    "\n",
    "    mean = sample_bmi.mean()\n",
    "    var = sample_bmi.var()\n",
    "\n",
    "    #Hist for each sample\n",
    "    plt.figure(figsize=(8, 6))\n",
    "    plt.hist(sample_bmi, bins=20, density=True, edgecolor='black', \n",
    "             label=f'Sample {i+1} (mean={mean:.2f}, var={var:.2f})')\n",
    "\n",
    "    plt.xlabel('BMI')\n",
    "    plt.ylabel('Density')\n",
    "    plt.title(f'Random Sample {i+1} of BMI')\n",
    "    plt.legend()\n",
    "    plt.show()\n",
    "    print(f\"Sample {i+1} mean: {mean:.2f}\")\n",
    "    print(f\"Sample {i+1} variance: {var:.2f}\")"
   ]
  },
  {
   "cell_type": "markdown",
   "id": "41877aa8-012e-4d8c-8043-291f3b42b27a",
   "metadata": {},
   "source": [
    "\n",
    "- The three random samples yield slightly different **means** and **variances**, even though they are drawn from the same population.  \n",
    "- This variation arises because  each sample may capture different subsets of the population distribution.  \n",
    "- Despite these differences, all values remain **close to the population’s true mean and variance**, illustrating that random samples approximate population parameters decently.  \n",
    "- The difference between the **means** and **variances** can be improved by increasing the sample size. This would result in a smaller differences between the sample means/variances and the population mean/variance"
   ]
  },
  {
   "cell_type": "markdown",
   "id": "3c7982ed-b1eb-4cf4-8ce7-8d9720b23097",
   "metadata": {},
   "source": [
    "## II.4 Correlation Analysis"
   ]
  },
  {
   "cell_type": "code",
   "execution_count": 39,
   "id": "bda8b400-1376-4a08-a265-0b1b240f1998",
   "metadata": {},
   "outputs": [
    {
     "name": "stdout",
     "output_type": "stream",
     "text": [
      "Correlation Matrix:\n",
      "                     bmi    age  avg_glucose_level\n",
      "bmi                1.000  0.334              0.184\n",
      "age                0.334  1.000              0.238\n",
      "avg_glucose_level  0.184  0.238              1.000\n"
     ]
    },
    {
     "data": {
      "image/png": "[encoded data removed]",
      "text/plain": [
       "<Figure size 800x600 with 2 Axes>"
      ]
     },
     "metadata": {},
     "output_type": "display_data"
    }
   ],
   "source": [
    "corr_matrix = df[nfeatures].corr().round(3)\n",
    "\n",
    "#Correlation matrix\n",
    "print(\"Correlation Matrix:\")\n",
    "print(corr_matrix)\n",
    "\n",
    "#Plot the heatmap \n",
    "plt.figure(figsize=(8, 6))\n",
    "sns.heatmap(corr_matrix, annot=True, cmap=\"icefire\", fmt=\".3f\")\n",
    "plt.title(\"Correlation Heatmap of Numerical Features\")\n",
    "plt.show()\n"
   ]
  },
  {
   "cell_type": "markdown",
   "id": "0f299f29-376d-46f8-aa75-5df667445633",
   "metadata": {},
   "source": [
    "###  Discussion\n",
    "\n",
    "- **bmi and age (r = 0.334)**  \n",
    "  There is a moderate positive correlation, meaning that BMI tends to increase slightly with age.  \n",
    "  However, this relationship is not very strong.\n",
    "\n",
    "- **bmi and avg_glucose_level (r = 0.184)**  \n",
    "  There is a weak positive correlation indicates that higher BMI is slightly associated with higher glucose levels.\n",
    " \n",
    "- **age and avg_glucose_level (r = 0.238)**  \n",
    "  A weak-to-moderate correlation shows that older individuals tend to have higher glucose levels on average,  \n",
    "  likely due to metabolic and health factors.\n",
    "\n",
    "### **Conclusion**\n",
    "\n",
    "Since all of the numerical show weak to moderate positive relationship with one another, we can see that they are slightly related in a biological way but remain resonably independent. Which means that we can treat them as independent feature for our model and prediction."
   ]
  },
  {
   "cell_type": "markdown",
   "id": "0c398e33-1279-4eeb-a1f8-b667c5aa4584",
   "metadata": {},
   "source": [
    "## II.5 Hypotheses Question Propose"
   ]
  },
  {
   "cell_type": "markdown",
   "id": "985701ec-98f9-4f4e-af4b-d6b5f1c781c2",
   "metadata": {},
   "source": [
    "Based on the numerical features related to stroke prediction, our team propose the following hypotheses:\n",
    "\n",
    "#### **Hypothesis 1: Average Glucose Level and Stroke Risk**\n",
    "- **Research Question:** Are higher average glucose levels associated with an increased risk of stroke?  \n",
    "- **Null Hypothesis (H₀):** There is **no significant** relationship between average glucose level and stroke occurrence.  \n",
    "- **Alternative Hypothesis (H₁):** Higher average glucose levels can lead to **higher chance** of having a stroke.  \n",
    "- **Variables:**  \n",
    "  - Independent Variable: `avg_glucose_level`  \n",
    "  - Dependent Variable: `stroke`\n",
    "\n",
    "#### **Hypothesis 2: BMI and Stroke Risk**\n",
    "- **Research Question:** Is BMI a significant predictor of stroke occurrence?  \n",
    "- **Null Hypothesis (H₀):** BMI has **no significant** effect on the chance of having a stroke.  \n",
    "- **Alternative Hypothesis (H₁):** Higher BMI might associate with **higher chance** of stroke.  \n",
    "- **Variables:**  \n",
    "  - Independent Variable: `bmi`  \n",
    "  - Dependent Variable: `stroke`\n",
    "\n",
    "#### **Hypothesis 3: Age and Stroke Risk**\n",
    "- **Research Question:** Does older age increase the likelihood of stroke?  \n",
    "- **Null Hypothesis (H₀):** There is **no significant** relationship between age and stroke occurrence.  \n",
    "- **Alternative Hypothesis (H₁):** Older individuals have a **higher chance** of experiencing a stroke.  \n",
    "- **Variables:**  \n",
    "  - Independent Variable: `age`  \n",
    "  - Dependent Variable: `stroke`  "
   ]
  },
  {
   "cell_type": "code",
   "execution_count": null,
   "id": "3228d73c-5271-4d80-816e-580eb2e23c12",
   "metadata": {},
   "outputs": [],
   "source": []
  }
 ],
 "metadata": {
  "kernelspec": {
   "display_name": "Python [conda env:base] *",
   "language": "python",
   "name": "conda-base-py"
  },
  "language_info": {
   "codemirror_mode": {
    "name": "ipython",
    "version": 3
   },
   "file_extension": ".py",
   "mimetype": "text/x-python",
   "name": "python",
   "nbconvert_exporter": "python",
   "pygments_lexer": "ipython3",
   "version": "3.13.5"
  }
 },
 "nbformat": 4,
 "nbformat_minor": 5
}
